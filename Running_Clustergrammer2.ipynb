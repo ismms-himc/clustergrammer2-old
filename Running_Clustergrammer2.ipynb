{
 "cells": [
  {
   "cell_type": "code",
   "execution_count": 11,
   "metadata": {},
   "outputs": [],
   "source": [
    "from clustergrammer import *\n",
    "import clustergrammer2"
   ]
  },
  {
   "cell_type": "code",
   "execution_count": 12,
   "metadata": {},
   "outputs": [],
   "source": [
    "net = Network()\n",
    "net.load_file('data/rc_two_cats.txt')\n",
    "net.cluster()\n",
    "net_json = net.export_viz_to_widget()"
   ]
  },
  {
   "cell_type": "code",
   "execution_count": 13,
   "metadata": {},
   "outputs": [
    {
     "data": {
      "application/vnd.jupyter.widget-view+json": {
       "model_id": "cfe9c7616ec4433fad079a36a09cacc4",
       "version_major": 2,
       "version_minor": 0
      },
      "text/plain": [
       "HelloWorld(network='{\"row_nodes\": [{\"name\": \"Gene: CDK4\", \"ini\": 38, \"clust\": 14, \"rank\": 30, \"rankvar\": 20, \"…"
      ]
     },
     "metadata": {},
     "output_type": "display_data"
    }
   ],
   "source": [
    "clustergrammer2.HelloWorld(network=net_json)"
   ]
  },
  {
   "cell_type": "code",
   "execution_count": 14,
   "metadata": {},
   "outputs": [
    {
     "data": {
      "application/vnd.jupyter.widget-view+json": {
       "model_id": "65712509d492448da8cd3d49b46b8f05",
       "version_major": 2,
       "version_minor": 0
      },
      "text/plain": [
       "HelloWorld(network='{\"row_nodes\": [{\"name\": \"Gene: CDK4\", \"ini\": 38, \"clust\": 14, \"rank\": 30, \"rankvar\": 20, \"…"
      ]
     },
     "metadata": {},
     "output_type": "display_data"
    }
   ],
   "source": [
    "clustergrammer2.HelloWorld(network=net_json)"
   ]
  },
  {
   "cell_type": "code",
   "execution_count": null,
   "metadata": {},
   "outputs": [],
   "source": []
  },
  {
   "cell_type": "code",
   "execution_count": null,
   "metadata": {},
   "outputs": [],
   "source": []
  }
 ],
 "metadata": {
  "kernelspec": {
   "display_name": "Python 3",
   "language": "python",
   "name": "python3"
  },
  "language_info": {
   "codemirror_mode": {
    "name": "ipython",
    "version": 3
   },
   "file_extension": ".py",
   "mimetype": "text/x-python",
   "name": "python",
   "nbconvert_exporter": "python",
   "pygments_lexer": "ipython3",
   "version": "3.6.5"
  }
 },
 "nbformat": 4,
 "nbformat_minor": 2
}
